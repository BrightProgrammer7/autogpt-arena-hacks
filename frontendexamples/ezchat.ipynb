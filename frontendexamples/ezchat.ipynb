{
 "cells": [
  {
   "cell_type": "code",
   "execution_count": 1,
   "metadata": {},
   "outputs": [
    {
     "name": "stderr",
     "output_type": "stream",
     "text": [
      "c:\\Users\\brigh\\miniconda3\\envs\\venv\\Lib\\site-packages\\tqdm\\auto.py:21: TqdmWarning: IProgress not found. Please update jupyter and ipywidgets. See https://ipywidgets.readthedocs.io/en/stable/user_install.html\n",
      "  from .autonotebook import tqdm as notebook_tqdm\n",
      "Downloading (…)okenizer_config.json: 100%|██████████| 26.0/26.0 [00:00<00:00, 26.0kB/s]\n",
      "c:\\Users\\brigh\\miniconda3\\envs\\venv\\Lib\\site-packages\\huggingface_hub\\file_download.py:137: UserWarning: `huggingface_hub` cache-system uses symlinks by default to efficiently store duplicated files but your machine does not support them in C:\\Users\\brigh\\.cache\\huggingface\\hub. Caching files will still work but in a degraded version that might require more space on your disk. This warning can be disabled by setting the `HF_HUB_DISABLE_SYMLINKS_WARNING` environment variable. For more details, see https://huggingface.co/docs/huggingface_hub/how-to-cache#limitations.\n",
      "To support symlinks on Windows, you either need to activate Developer Mode or to run Python as an administrator. In order to see activate developer mode, see this article: https://docs.microsoft.com/en-us/windows/apps/get-started/enable-your-device-for-development\n",
      "  warnings.warn(message)\n",
      "Downloading (…)lve/main/config.json: 100%|██████████| 642/642 [00:00<00:00, 321kB/s]\n",
      "Downloading (…)olve/main/vocab.json: 100%|██████████| 1.04M/1.04M [00:00<00:00, 2.40MB/s]\n",
      "Downloading (…)olve/main/merges.txt: 100%|██████████| 456k/456k [00:00<00:00, 1.01MB/s]\n",
      "Downloading pytorch_model.bin: 100%|██████████| 863M/863M [02:30<00:00, 5.72MB/s] \n",
      "Downloading (…)neration_config.json: 100%|██████████| 124/124 [00:00<00:00, 8.07kB/s]\n",
      "Downloading (…)_schema%400.0.1.json: 100%|██████████| 13.1k/13.1k [00:00<?, ?B/s]\n"
     ]
    },
    {
     "name": "stdout",
     "output_type": "stream",
     "text": [
      "Running on local URL:  http://127.0.0.1:7860\n",
      "\n",
      "To create a public link, set `share=True` in `launch()`.\n"
     ]
    },
    {
     "data": {
      "text/html": [
       "<div><iframe src=\"http://127.0.0.1:7860/\" width=\"100%\" height=\"500\" allow=\"autoplay; camera; microphone; clipboard-read; clipboard-write;\" frameborder=\"0\" allowfullscreen></iframe></div>"
      ],
      "text/plain": [
       "<IPython.core.display.HTML object>"
      ]
     },
     "metadata": {},
     "output_type": "display_data"
    },
    {
     "data": {
      "text/plain": []
     },
     "execution_count": 1,
     "metadata": {},
     "output_type": "execute_result"
    },
    {
     "name": "stderr",
     "output_type": "stream",
     "text": [
      "A decoder-only architecture is being used, but right-padding was detected! For correct generation results, please set `padding_side='left'` when initializing the tokenizer.\n",
      "A decoder-only architecture is being used, but right-padding was detected! For correct generation results, please set `padding_side='left'` when initializing the tokenizer.\n",
      "A decoder-only architecture is being used, but right-padding was detected! For correct generation results, please set `padding_side='left'` when initializing the tokenizer.\n"
     ]
    }
   ],
   "source": [
    "from transformers import AutoModelForCausalLM, AutoTokenizer      \n",
    "import gradio as gr      \n",
    "import torch      \n",
    "    \n",
    "tokenizer = AutoTokenizer.from_pretrained(\"microsoft/DialoGPT-medium\")    \n",
    "tokenizer.padding_side = 'left'      \n",
    "model = AutoModelForCausalLM.from_pretrained(\"microsoft/DialoGPT-medium\")     \n",
    "    \n",
    "class ChatBot:      \n",
    "    def __init__(self):      \n",
    "        self.history = []      \n",
    "    \n",
    "    def predict(self, input):            \n",
    "        new_user_input_ids = tokenizer.encode(input + tokenizer.eos_token, return_tensors=\"pt\")            \n",
    "        flat_history = [item for sublist in self.history for item in sublist]       \n",
    "        flat_history_tensor = torch.tensor(flat_history).unsqueeze(dim=0)  # convert list to 2-D tensor    \n",
    "        bot_input_ids = torch.cat([flat_history_tensor, new_user_input_ids], dim=-1) if self.history else new_user_input_ids            \n",
    "        chat_history_ids = model.generate(bot_input_ids, max_length=2000, pad_token_id=tokenizer.eos_token_id)            \n",
    "        self.history.append(chat_history_ids[:, bot_input_ids.shape[-1]:].tolist()[0])            \n",
    "        response = tokenizer.decode(chat_history_ids[:, bot_input_ids.shape[-1]:][0], skip_special_tokens=True)     \n",
    "        return response      \n",
    "  \n",
    "bot = ChatBot() \n",
    "  \n",
    "title = \"👋🏻Welcome to Tonic's EZ Chat🚀\"    \n",
    "description = \"You can use this Space to test out the current model (DialoGPT-medium) or duplicate this Space and use it for any other model on 🤗HuggingFace. Join me on [Discord](https://discord.gg/fpEPNZGsbt) to build together.\"    \n",
    "examples = [[\"How are you?\"]]    \n",
    "  \n",
    "iface = gr.Interface(    \n",
    "    fn=bot.predict,    \n",
    "    title=title,    \n",
    "    description=description,    \n",
    "    examples=examples,    \n",
    "    inputs=\"text\",    \n",
    "    outputs=\"text\", \n",
    "    theme=\"ParityError/Anime\"\n",
    ")    \n",
    "  \n",
    "iface.launch()  \n"
   ]
  }
 ],
 "metadata": {
  "kernelspec": {
   "display_name": ".venv",
   "language": "python",
   "name": "python3"
  },
  "language_info": {
   "codemirror_mode": {
    "name": "ipython",
    "version": 3
   },
   "file_extension": ".py",
   "mimetype": "text/x-python",
   "name": "python",
   "nbconvert_exporter": "python",
   "pygments_lexer": "ipython3",
   "version": "3.11.5"
  }
 },
 "nbformat": 4,
 "nbformat_minor": 2
}
