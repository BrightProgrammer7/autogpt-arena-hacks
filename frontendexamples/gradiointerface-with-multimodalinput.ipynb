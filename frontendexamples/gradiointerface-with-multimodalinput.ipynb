{
 "cells": [
  {
   "cell_type": "code",
   "execution_count": 2,
   "metadata": {},
   "outputs": [
    {
     "ename": "NameError",
     "evalue": "name '__file__' is not defined",
     "output_type": "error",
     "traceback": [
      "\u001b[1;31m---------------------------------------------------------------------------\u001b[0m",
      "\u001b[1;31mNameError\u001b[0m                                 Traceback (most recent call last)",
      "\u001b[1;32mz:\\Lablab.ai\\Main-Repo\\frontendexamples\\gradiointerface-with-multimodalinput.ipynb Cell 1\u001b[0m line \u001b[0;36m3\n\u001b[0;32m     <a href='vscode-notebook-cell:/z%3A/Lablab.ai/Main-Repo/frontendexamples/gradiointerface-with-multimodalinput.ipynb#W0sZmlsZQ%3D%3D?line=23'>24</a>\u001b[0m         \u001b[39myield\u001b[39;00m history\n\u001b[0;32m     <a href='vscode-notebook-cell:/z%3A/Lablab.ai/Main-Repo/frontendexamples/gradiointerface-with-multimodalinput.ipynb#W0sZmlsZQ%3D%3D?line=26'>27</a>\u001b[0m \u001b[39mwith\u001b[39;00m gr\u001b[39m.\u001b[39mBlocks() \u001b[39mas\u001b[39;00m demo:\n\u001b[0;32m     <a href='vscode-notebook-cell:/z%3A/Lablab.ai/Main-Repo/frontendexamples/gradiointerface-with-multimodalinput.ipynb#W0sZmlsZQ%3D%3D?line=27'>28</a>\u001b[0m     chatbot \u001b[39m=\u001b[39m gr\u001b[39m.\u001b[39mChatbot(\n\u001b[0;32m     <a href='vscode-notebook-cell:/z%3A/Lablab.ai/Main-Repo/frontendexamples/gradiointerface-with-multimodalinput.ipynb#W0sZmlsZQ%3D%3D?line=28'>29</a>\u001b[0m         [],\n\u001b[0;32m     <a href='vscode-notebook-cell:/z%3A/Lablab.ai/Main-Repo/frontendexamples/gradiointerface-with-multimodalinput.ipynb#W0sZmlsZQ%3D%3D?line=29'>30</a>\u001b[0m         elem_id\u001b[39m=\u001b[39m\u001b[39m\"\u001b[39m\u001b[39mchatbot\u001b[39m\u001b[39m\"\u001b[39m,\n\u001b[0;32m     <a href='vscode-notebook-cell:/z%3A/Lablab.ai/Main-Repo/frontendexamples/gradiointerface-with-multimodalinput.ipynb#W0sZmlsZQ%3D%3D?line=30'>31</a>\u001b[0m         bubble_full_width\u001b[39m=\u001b[39m\u001b[39mFalse\u001b[39;00m,\n\u001b[1;32m---> <a href='vscode-notebook-cell:/z%3A/Lablab.ai/Main-Repo/frontendexamples/gradiointerface-with-multimodalinput.ipynb#W0sZmlsZQ%3D%3D?line=31'>32</a>\u001b[0m         avatar_images\u001b[39m=\u001b[39m(\u001b[39mNone\u001b[39;00m, (os\u001b[39m.\u001b[39mpath\u001b[39m.\u001b[39mjoin(os\u001b[39m.\u001b[39mpath\u001b[39m.\u001b[39mdirname(\u001b[39m__file__\u001b[39;49m), \u001b[39m\"\u001b[39m\u001b[39mavatar.png\u001b[39m\u001b[39m\"\u001b[39m))),\n\u001b[0;32m     <a href='vscode-notebook-cell:/z%3A/Lablab.ai/Main-Repo/frontendexamples/gradiointerface-with-multimodalinput.ipynb#W0sZmlsZQ%3D%3D?line=32'>33</a>\u001b[0m     )\n\u001b[0;32m     <a href='vscode-notebook-cell:/z%3A/Lablab.ai/Main-Repo/frontendexamples/gradiointerface-with-multimodalinput.ipynb#W0sZmlsZQ%3D%3D?line=34'>35</a>\u001b[0m     \u001b[39mwith\u001b[39;00m gr\u001b[39m.\u001b[39mRow():\n\u001b[0;32m     <a href='vscode-notebook-cell:/z%3A/Lablab.ai/Main-Repo/frontendexamples/gradiointerface-with-multimodalinput.ipynb#W0sZmlsZQ%3D%3D?line=35'>36</a>\u001b[0m         txt \u001b[39m=\u001b[39m gr\u001b[39m.\u001b[39mTextbox(\n\u001b[0;32m     <a href='vscode-notebook-cell:/z%3A/Lablab.ai/Main-Repo/frontendexamples/gradiointerface-with-multimodalinput.ipynb#W0sZmlsZQ%3D%3D?line=36'>37</a>\u001b[0m             scale\u001b[39m=\u001b[39m\u001b[39m4\u001b[39m,\n\u001b[0;32m     <a href='vscode-notebook-cell:/z%3A/Lablab.ai/Main-Repo/frontendexamples/gradiointerface-with-multimodalinput.ipynb#W0sZmlsZQ%3D%3D?line=37'>38</a>\u001b[0m             show_label\u001b[39m=\u001b[39m\u001b[39mFalse\u001b[39;00m,\n\u001b[0;32m     <a href='vscode-notebook-cell:/z%3A/Lablab.ai/Main-Repo/frontendexamples/gradiointerface-with-multimodalinput.ipynb#W0sZmlsZQ%3D%3D?line=38'>39</a>\u001b[0m             placeholder\u001b[39m=\u001b[39m\u001b[39m\"\u001b[39m\u001b[39mEnter text and press enter, or upload an image\u001b[39m\u001b[39m\"\u001b[39m,\n\u001b[0;32m     <a href='vscode-notebook-cell:/z%3A/Lablab.ai/Main-Repo/frontendexamples/gradiointerface-with-multimodalinput.ipynb#W0sZmlsZQ%3D%3D?line=39'>40</a>\u001b[0m             container\u001b[39m=\u001b[39m\u001b[39mFalse\u001b[39;00m,\n\u001b[0;32m     <a href='vscode-notebook-cell:/z%3A/Lablab.ai/Main-Repo/frontendexamples/gradiointerface-with-multimodalinput.ipynb#W0sZmlsZQ%3D%3D?line=40'>41</a>\u001b[0m         )\n",
      "\u001b[1;31mNameError\u001b[0m: name '__file__' is not defined"
     ]
    }
   ],
   "source": [
    "import gradio as gr\n",
    "import os\n",
    "import time\n",
    "\n",
    "# Chatbot demo with multimodal input (text, markdown, LaTeX, code blocks, image, audio, & video). Plus shows support for streaming text.\n",
    "\n",
    "\n",
    "def add_text(history, text):\n",
    "    history = history + [(text, None)]\n",
    "    return history, gr.Textbox(value=\"\", interactive=False)\n",
    "\n",
    "\n",
    "def add_file(history, file):\n",
    "    history = history + [((file.name,), None)]\n",
    "    return history\n",
    "\n",
    "\n",
    "def bot(history):\n",
    "    response = \"**That's cool!**\"\n",
    "    history[-1][1] = \"\"\n",
    "    for character in response:\n",
    "        history[-1][1] += character\n",
    "        time.sleep(0.05)\n",
    "        yield history\n",
    "\n",
    "\n",
    "with gr.Blocks() as demo:\n",
    "    chatbot = gr.Chatbot(\n",
    "        [],\n",
    "        elem_id=\"chatbot\",\n",
    "        bubble_full_width=False,\n",
    "        avatar_images=(None, (os.path.join(os.path.dirname(__file__), \"avatar.png\"))),\n",
    "    )\n",
    "\n",
    "    with gr.Row():\n",
    "        txt = gr.Textbox(\n",
    "            scale=4,\n",
    "            show_label=False,\n",
    "            placeholder=\"Enter text and press enter, or upload an image\",\n",
    "            container=False,\n",
    "        )\n",
    "        btn = gr.UploadButton(\"📁\", file_types=[\"image\", \"video\", \"audio\"])\n",
    "\n",
    "    txt_msg = txt.submit(add_text, [chatbot, txt], [chatbot, txt], queue=False).then(\n",
    "        bot, chatbot, chatbot\n",
    "    )\n",
    "    txt_msg.then(lambda: gr.Textbox(interactive=True), None, [txt], queue=False)\n",
    "    file_msg = btn.upload(add_file, [chatbot, btn], [chatbot], queue=False).then(\n",
    "        bot, chatbot, chatbot\n",
    "    )\n",
    "\n",
    "demo.queue()\n",
    "if __name__ == \"__file__\":\n",
    "    demo.launch()\n",
    "# demo.launch()  "
   ]
  }
 ],
 "metadata": {
  "kernelspec": {
   "display_name": "Python 3",
   "language": "python",
   "name": "python3"
  },
  "language_info": {
   "codemirror_mode": {
    "name": "ipython",
    "version": 3
   },
   "file_extension": ".py",
   "mimetype": "text/x-python",
   "name": "python",
   "nbconvert_exporter": "python",
   "pygments_lexer": "ipython3",
   "version": "3.11.5"
  }
 },
 "nbformat": 4,
 "nbformat_minor": 2
}
